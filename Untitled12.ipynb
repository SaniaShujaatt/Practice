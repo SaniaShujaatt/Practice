{
  "nbformat": 4,
  "nbformat_minor": 0,
  "metadata": {
    "colab": {
      "provenance": [],
      "gpuType": "T4",
      "authorship_tag": "ABX9TyPylEeH+gFQpf5Un+anW/AL",
      "include_colab_link": true
    },
    "kernelspec": {
      "name": "python3",
      "display_name": "Python 3"
    },
    "language_info": {
      "name": "python"
    },
    "accelerator": "GPU"
  },
  "cells": [
    {
      "cell_type": "markdown",
      "metadata": {
        "id": "view-in-github",
        "colab_type": "text"
      },
      "source": [
        "<a href=\"https://colab.research.google.com/github/SaniaShujaatt/Practice/blob/main/Untitled12.ipynb\" target=\"_parent\"><img src=\"https://colab.research.google.com/assets/colab-badge.svg\" alt=\"Open In Colab\"/></a>"
      ]
    },
    {
      "cell_type": "code",
      "execution_count": 1,
      "metadata": {
        "colab": {
          "base_uri": "https://localhost:8080/",
          "height": 0
        },
        "id": "3jPgZNgctjwU",
        "outputId": "622cfa92-40cb-4448-eb47-ba3d13ef6a63"
      },
      "outputs": [
        {
          "output_type": "stream",
          "name": "stdout",
          "text": [
            "Mounted at /content/drive\n"
          ]
        }
      ],
      "source": [
        "from google.colab import drive\n",
        "drive.mount('/content/drive')"
      ]
    },
    {
      "cell_type": "code",
      "source": [
        "import numpy as np\n",
        "from skimage.metrics import structural_similarity as ssim\n",
        "from skimage import io\n",
        "\n",
        "# Load the two images\n",
        "image1 = io.imread('/content/drive/MyDrive/20stress.png', as_gray=True)\n",
        "image2 = io.imread('/content/drive/MyDrive/fake_images-62900.png', as_gray=True)\n",
        "\n",
        "# Calculate the SSIM index\n",
        "ssim_score, _ = ssim(image1, image2, full=True, data_range=image1.max() - image1.min())\n",
        "\n",
        "# Print the SSIM score\n",
        "print(f\"The SSIM score between the two images is: {ssim_score}\")\n"
      ],
      "metadata": {
        "colab": {
          "base_uri": "https://localhost:8080/",
          "height": 0
        },
        "id": "0WAtMVJdt6TW",
        "outputId": "cfd10a85-4dd1-40e1-d630-b61a7ae3a640"
      },
      "execution_count": 2,
      "outputs": [
        {
          "output_type": "stream",
          "name": "stdout",
          "text": [
            "The SSIM score between the two images is: 0.20719812735741874\n"
          ]
        }
      ]
    }
  ]
}