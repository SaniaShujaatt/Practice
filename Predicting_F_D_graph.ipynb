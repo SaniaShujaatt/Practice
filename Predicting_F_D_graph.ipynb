{
  "nbformat": 4,
  "nbformat_minor": 0,
  "metadata": {
    "colab": {
      "provenance": [],
      "authorship_tag": "ABX9TyM62jblg2UbkvmgyUBw2GfR",
      "include_colab_link": true
    },
    "kernelspec": {
      "name": "python3",
      "display_name": "Python 3"
    },
    "language_info": {
      "name": "python"
    }
  },
  "cells": [
    {
      "cell_type": "markdown",
      "metadata": {
        "id": "view-in-github",
        "colab_type": "text"
      },
      "source": [
        "<a href=\"https://colab.research.google.com/github/SaniaShujaatt/Practice/blob/main/Predicting_F_D_graph.ipynb\" target=\"_parent\"><img src=\"https://colab.research.google.com/assets/colab-badge.svg\" alt=\"Open In Colab\"/></a>"
      ]
    },
    {
      "cell_type": "code",
      "source": [
        "import numpy as np\n",
        "import pandas as pd\n",
        "import matplotlib.pyplot as plt\n",
        "%matplotlib inline\n",
        "\n",
        "from sklearn.linear_model import LinearRegression"
      ],
      "metadata": {
        "id": "HBH7QpKlzjS9"
      },
      "execution_count": 114,
      "outputs": []
    },
    {
      "cell_type": "markdown",
      "source": [
        "# Simple Linear Regression\n",
        "\n",
        "### Step#1: Data Pre-Processing "
      ],
      "metadata": {
        "id": "QVjHDavc-6lr"
      }
    },
    {
      "cell_type": "code",
      "source": [
        "from google.colab import files\n",
        "uploaded = files.upload()"
      ],
      "metadata": {
        "colab": {
          "base_uri": "https://localhost:8080/",
          "height": 77
        },
        "id": "ZA2RA8EJBZYR",
        "outputId": "19c027c6-ec5d-4dcc-bc3d-2a1d721d1814"
      },
      "execution_count": 115,
      "outputs": [
        {
          "output_type": "display_data",
          "data": {
            "text/plain": [
              "<IPython.core.display.HTML object>"
            ],
            "text/html": [
              "\n",
              "     <input type=\"file\" id=\"files-a0460613-06f5-4e4a-b7f9-2c96f2dcd0b4\" name=\"files[]\" multiple disabled\n",
              "        style=\"border:none\" />\n",
              "     <output id=\"result-a0460613-06f5-4e4a-b7f9-2c96f2dcd0b4\">\n",
              "      Upload widget is only available when the cell has been executed in the\n",
              "      current browser session. Please rerun this cell to enable.\n",
              "      </output>\n",
              "      <script>// Copyright 2017 Google LLC\n",
              "//\n",
              "// Licensed under the Apache License, Version 2.0 (the \"License\");\n",
              "// you may not use this file except in compliance with the License.\n",
              "// You may obtain a copy of the License at\n",
              "//\n",
              "//      http://www.apache.org/licenses/LICENSE-2.0\n",
              "//\n",
              "// Unless required by applicable law or agreed to in writing, software\n",
              "// distributed under the License is distributed on an \"AS IS\" BASIS,\n",
              "// WITHOUT WARRANTIES OR CONDITIONS OF ANY KIND, either express or implied.\n",
              "// See the License for the specific language governing permissions and\n",
              "// limitations under the License.\n",
              "\n",
              "/**\n",
              " * @fileoverview Helpers for google.colab Python module.\n",
              " */\n",
              "(function(scope) {\n",
              "function span(text, styleAttributes = {}) {\n",
              "  const element = document.createElement('span');\n",
              "  element.textContent = text;\n",
              "  for (const key of Object.keys(styleAttributes)) {\n",
              "    element.style[key] = styleAttributes[key];\n",
              "  }\n",
              "  return element;\n",
              "}\n",
              "\n",
              "// Max number of bytes which will be uploaded at a time.\n",
              "const MAX_PAYLOAD_SIZE = 100 * 1024;\n",
              "\n",
              "function _uploadFiles(inputId, outputId) {\n",
              "  const steps = uploadFilesStep(inputId, outputId);\n",
              "  const outputElement = document.getElementById(outputId);\n",
              "  // Cache steps on the outputElement to make it available for the next call\n",
              "  // to uploadFilesContinue from Python.\n",
              "  outputElement.steps = steps;\n",
              "\n",
              "  return _uploadFilesContinue(outputId);\n",
              "}\n",
              "\n",
              "// This is roughly an async generator (not supported in the browser yet),\n",
              "// where there are multiple asynchronous steps and the Python side is going\n",
              "// to poll for completion of each step.\n",
              "// This uses a Promise to block the python side on completion of each step,\n",
              "// then passes the result of the previous step as the input to the next step.\n",
              "function _uploadFilesContinue(outputId) {\n",
              "  const outputElement = document.getElementById(outputId);\n",
              "  const steps = outputElement.steps;\n",
              "\n",
              "  const next = steps.next(outputElement.lastPromiseValue);\n",
              "  return Promise.resolve(next.value.promise).then((value) => {\n",
              "    // Cache the last promise value to make it available to the next\n",
              "    // step of the generator.\n",
              "    outputElement.lastPromiseValue = value;\n",
              "    return next.value.response;\n",
              "  });\n",
              "}\n",
              "\n",
              "/**\n",
              " * Generator function which is called between each async step of the upload\n",
              " * process.\n",
              " * @param {string} inputId Element ID of the input file picker element.\n",
              " * @param {string} outputId Element ID of the output display.\n",
              " * @return {!Iterable<!Object>} Iterable of next steps.\n",
              " */\n",
              "function* uploadFilesStep(inputId, outputId) {\n",
              "  const inputElement = document.getElementById(inputId);\n",
              "  inputElement.disabled = false;\n",
              "\n",
              "  const outputElement = document.getElementById(outputId);\n",
              "  outputElement.innerHTML = '';\n",
              "\n",
              "  const pickedPromise = new Promise((resolve) => {\n",
              "    inputElement.addEventListener('change', (e) => {\n",
              "      resolve(e.target.files);\n",
              "    });\n",
              "  });\n",
              "\n",
              "  const cancel = document.createElement('button');\n",
              "  inputElement.parentElement.appendChild(cancel);\n",
              "  cancel.textContent = 'Cancel upload';\n",
              "  const cancelPromise = new Promise((resolve) => {\n",
              "    cancel.onclick = () => {\n",
              "      resolve(null);\n",
              "    };\n",
              "  });\n",
              "\n",
              "  // Wait for the user to pick the files.\n",
              "  const files = yield {\n",
              "    promise: Promise.race([pickedPromise, cancelPromise]),\n",
              "    response: {\n",
              "      action: 'starting',\n",
              "    }\n",
              "  };\n",
              "\n",
              "  cancel.remove();\n",
              "\n",
              "  // Disable the input element since further picks are not allowed.\n",
              "  inputElement.disabled = true;\n",
              "\n",
              "  if (!files) {\n",
              "    return {\n",
              "      response: {\n",
              "        action: 'complete',\n",
              "      }\n",
              "    };\n",
              "  }\n",
              "\n",
              "  for (const file of files) {\n",
              "    const li = document.createElement('li');\n",
              "    li.append(span(file.name, {fontWeight: 'bold'}));\n",
              "    li.append(span(\n",
              "        `(${file.type || 'n/a'}) - ${file.size} bytes, ` +\n",
              "        `last modified: ${\n",
              "            file.lastModifiedDate ? file.lastModifiedDate.toLocaleDateString() :\n",
              "                                    'n/a'} - `));\n",
              "    const percent = span('0% done');\n",
              "    li.appendChild(percent);\n",
              "\n",
              "    outputElement.appendChild(li);\n",
              "\n",
              "    const fileDataPromise = new Promise((resolve) => {\n",
              "      const reader = new FileReader();\n",
              "      reader.onload = (e) => {\n",
              "        resolve(e.target.result);\n",
              "      };\n",
              "      reader.readAsArrayBuffer(file);\n",
              "    });\n",
              "    // Wait for the data to be ready.\n",
              "    let fileData = yield {\n",
              "      promise: fileDataPromise,\n",
              "      response: {\n",
              "        action: 'continue',\n",
              "      }\n",
              "    };\n",
              "\n",
              "    // Use a chunked sending to avoid message size limits. See b/62115660.\n",
              "    let position = 0;\n",
              "    do {\n",
              "      const length = Math.min(fileData.byteLength - position, MAX_PAYLOAD_SIZE);\n",
              "      const chunk = new Uint8Array(fileData, position, length);\n",
              "      position += length;\n",
              "\n",
              "      const base64 = btoa(String.fromCharCode.apply(null, chunk));\n",
              "      yield {\n",
              "        response: {\n",
              "          action: 'append',\n",
              "          file: file.name,\n",
              "          data: base64,\n",
              "        },\n",
              "      };\n",
              "\n",
              "      let percentDone = fileData.byteLength === 0 ?\n",
              "          100 :\n",
              "          Math.round((position / fileData.byteLength) * 100);\n",
              "      percent.textContent = `${percentDone}% done`;\n",
              "\n",
              "    } while (position < fileData.byteLength);\n",
              "  }\n",
              "\n",
              "  // All done.\n",
              "  yield {\n",
              "    response: {\n",
              "      action: 'complete',\n",
              "    }\n",
              "  };\n",
              "}\n",
              "\n",
              "scope.google = scope.google || {};\n",
              "scope.google.colab = scope.google.colab || {};\n",
              "scope.google.colab._files = {\n",
              "  _uploadFiles,\n",
              "  _uploadFilesContinue,\n",
              "};\n",
              "})(self);\n",
              "</script> "
            ]
          },
          "metadata": {}
        },
        {
          "output_type": "stream",
          "name": "stdout",
          "text": [
            "Saving example1.csv to example1 (1).csv\n"
          ]
        }
      ]
    },
    {
      "cell_type": "code",
      "source": [
        "df = pd.read_csv('example1.csv')\n",
        "df"
      ],
      "metadata": {
        "colab": {
          "base_uri": "https://localhost:8080/",
          "height": 423
        },
        "id": "x2Tbng_NBcen",
        "outputId": "9dab2dd9-af68-4293-e9ab-55f5cde5396c"
      },
      "execution_count": 116,
      "outputs": [
        {
          "output_type": "execute_result",
          "data": {
            "text/plain": [
              "    Unnamed: 0               A1   Unnamed: 2\n",
              "0     Time sec  500lb_1099500 N  Position mm\n",
              "1         0.02         0.660824     4.533458\n",
              "2         0.04         0.624543     4.533458\n",
              "3         0.06          0.56476     4.533458\n",
              "4         0.08         0.599409     4.533481\n",
              "..         ...              ...          ...\n",
              "971      19.42         1.245751     4.423066\n",
              "972  19.439999         1.148792      4.42286\n",
              "973  19.459999         1.140008      4.42266\n",
              "974      19.48         1.257589     4.422461\n",
              "975       19.5         1.255967     4.422262\n",
              "\n",
              "[976 rows x 3 columns]"
            ],
            "text/html": [
              "\n",
              "  <div id=\"df-340763e9-87d4-49e0-8644-21f95941e057\">\n",
              "    <div class=\"colab-df-container\">\n",
              "      <div>\n",
              "<style scoped>\n",
              "    .dataframe tbody tr th:only-of-type {\n",
              "        vertical-align: middle;\n",
              "    }\n",
              "\n",
              "    .dataframe tbody tr th {\n",
              "        vertical-align: top;\n",
              "    }\n",
              "\n",
              "    .dataframe thead th {\n",
              "        text-align: right;\n",
              "    }\n",
              "</style>\n",
              "<table border=\"1\" class=\"dataframe\">\n",
              "  <thead>\n",
              "    <tr style=\"text-align: right;\">\n",
              "      <th></th>\n",
              "      <th>Unnamed: 0</th>\n",
              "      <th>A1</th>\n",
              "      <th>Unnamed: 2</th>\n",
              "    </tr>\n",
              "  </thead>\n",
              "  <tbody>\n",
              "    <tr>\n",
              "      <th>0</th>\n",
              "      <td>Time sec</td>\n",
              "      <td>500lb_1099500 N</td>\n",
              "      <td>Position mm</td>\n",
              "    </tr>\n",
              "    <tr>\n",
              "      <th>1</th>\n",
              "      <td>0.02</td>\n",
              "      <td>0.660824</td>\n",
              "      <td>4.533458</td>\n",
              "    </tr>\n",
              "    <tr>\n",
              "      <th>2</th>\n",
              "      <td>0.04</td>\n",
              "      <td>0.624543</td>\n",
              "      <td>4.533458</td>\n",
              "    </tr>\n",
              "    <tr>\n",
              "      <th>3</th>\n",
              "      <td>0.06</td>\n",
              "      <td>0.56476</td>\n",
              "      <td>4.533458</td>\n",
              "    </tr>\n",
              "    <tr>\n",
              "      <th>4</th>\n",
              "      <td>0.08</td>\n",
              "      <td>0.599409</td>\n",
              "      <td>4.533481</td>\n",
              "    </tr>\n",
              "    <tr>\n",
              "      <th>...</th>\n",
              "      <td>...</td>\n",
              "      <td>...</td>\n",
              "      <td>...</td>\n",
              "    </tr>\n",
              "    <tr>\n",
              "      <th>971</th>\n",
              "      <td>19.42</td>\n",
              "      <td>1.245751</td>\n",
              "      <td>4.423066</td>\n",
              "    </tr>\n",
              "    <tr>\n",
              "      <th>972</th>\n",
              "      <td>19.439999</td>\n",
              "      <td>1.148792</td>\n",
              "      <td>4.42286</td>\n",
              "    </tr>\n",
              "    <tr>\n",
              "      <th>973</th>\n",
              "      <td>19.459999</td>\n",
              "      <td>1.140008</td>\n",
              "      <td>4.42266</td>\n",
              "    </tr>\n",
              "    <tr>\n",
              "      <th>974</th>\n",
              "      <td>19.48</td>\n",
              "      <td>1.257589</td>\n",
              "      <td>4.422461</td>\n",
              "    </tr>\n",
              "    <tr>\n",
              "      <th>975</th>\n",
              "      <td>19.5</td>\n",
              "      <td>1.255967</td>\n",
              "      <td>4.422262</td>\n",
              "    </tr>\n",
              "  </tbody>\n",
              "</table>\n",
              "<p>976 rows × 3 columns</p>\n",
              "</div>\n",
              "      <button class=\"colab-df-convert\" onclick=\"convertToInteractive('df-340763e9-87d4-49e0-8644-21f95941e057')\"\n",
              "              title=\"Convert this dataframe to an interactive table.\"\n",
              "              style=\"display:none;\">\n",
              "        \n",
              "  <svg xmlns=\"http://www.w3.org/2000/svg\" height=\"24px\"viewBox=\"0 0 24 24\"\n",
              "       width=\"24px\">\n",
              "    <path d=\"M0 0h24v24H0V0z\" fill=\"none\"/>\n",
              "    <path d=\"M18.56 5.44l.94 2.06.94-2.06 2.06-.94-2.06-.94-.94-2.06-.94 2.06-2.06.94zm-11 1L8.5 8.5l.94-2.06 2.06-.94-2.06-.94L8.5 2.5l-.94 2.06-2.06.94zm10 10l.94 2.06.94-2.06 2.06-.94-2.06-.94-.94-2.06-.94 2.06-2.06.94z\"/><path d=\"M17.41 7.96l-1.37-1.37c-.4-.4-.92-.59-1.43-.59-.52 0-1.04.2-1.43.59L10.3 9.45l-7.72 7.72c-.78.78-.78 2.05 0 2.83L4 21.41c.39.39.9.59 1.41.59.51 0 1.02-.2 1.41-.59l7.78-7.78 2.81-2.81c.8-.78.8-2.07 0-2.86zM5.41 20L4 18.59l7.72-7.72 1.47 1.35L5.41 20z\"/>\n",
              "  </svg>\n",
              "      </button>\n",
              "      \n",
              "  <style>\n",
              "    .colab-df-container {\n",
              "      display:flex;\n",
              "      flex-wrap:wrap;\n",
              "      gap: 12px;\n",
              "    }\n",
              "\n",
              "    .colab-df-convert {\n",
              "      background-color: #E8F0FE;\n",
              "      border: none;\n",
              "      border-radius: 50%;\n",
              "      cursor: pointer;\n",
              "      display: none;\n",
              "      fill: #1967D2;\n",
              "      height: 32px;\n",
              "      padding: 0 0 0 0;\n",
              "      width: 32px;\n",
              "    }\n",
              "\n",
              "    .colab-df-convert:hover {\n",
              "      background-color: #E2EBFA;\n",
              "      box-shadow: 0px 1px 2px rgba(60, 64, 67, 0.3), 0px 1px 3px 1px rgba(60, 64, 67, 0.15);\n",
              "      fill: #174EA6;\n",
              "    }\n",
              "\n",
              "    [theme=dark] .colab-df-convert {\n",
              "      background-color: #3B4455;\n",
              "      fill: #D2E3FC;\n",
              "    }\n",
              "\n",
              "    [theme=dark] .colab-df-convert:hover {\n",
              "      background-color: #434B5C;\n",
              "      box-shadow: 0px 1px 3px 1px rgba(0, 0, 0, 0.15);\n",
              "      filter: drop-shadow(0px 1px 2px rgba(0, 0, 0, 0.3));\n",
              "      fill: #FFFFFF;\n",
              "    }\n",
              "  </style>\n",
              "\n",
              "      <script>\n",
              "        const buttonEl =\n",
              "          document.querySelector('#df-340763e9-87d4-49e0-8644-21f95941e057 button.colab-df-convert');\n",
              "        buttonEl.style.display =\n",
              "          google.colab.kernel.accessAllowed ? 'block' : 'none';\n",
              "\n",
              "        async function convertToInteractive(key) {\n",
              "          const element = document.querySelector('#df-340763e9-87d4-49e0-8644-21f95941e057');\n",
              "          const dataTable =\n",
              "            await google.colab.kernel.invokeFunction('convertToInteractive',\n",
              "                                                     [key], {});\n",
              "          if (!dataTable) return;\n",
              "\n",
              "          const docLinkHtml = 'Like what you see? Visit the ' +\n",
              "            '<a target=\"_blank\" href=https://colab.research.google.com/notebooks/data_table.ipynb>data table notebook</a>'\n",
              "            + ' to learn more about interactive tables.';\n",
              "          element.innerHTML = '';\n",
              "          dataTable['output_type'] = 'display_data';\n",
              "          await google.colab.output.renderOutput(dataTable, element);\n",
              "          const docLink = document.createElement('div');\n",
              "          docLink.innerHTML = docLinkHtml;\n",
              "          element.appendChild(docLink);\n",
              "        }\n",
              "      </script>\n",
              "    </div>\n",
              "  </div>\n",
              "  "
            ]
          },
          "metadata": {},
          "execution_count": 116
        }
      ]
    },
    {
      "cell_type": "code",
      "source": [
        "X = df.iloc[500:,2].values.reshape(-1,1).astype(float)\n"
      ],
      "metadata": {
        "id": "EQPe6aJaBm7t"
      },
      "execution_count": 117,
      "outputs": []
    },
    {
      "cell_type": "markdown",
      "source": [
        "### Assigned the load values to variable x"
      ],
      "metadata": {
        "id": "fBflynVRBwR6"
      }
    },
    {
      "cell_type": "code",
      "source": [
        "X.dtype"
      ],
      "metadata": {
        "colab": {
          "base_uri": "https://localhost:8080/",
          "height": 0
        },
        "id": "iVChp4y2CACe",
        "outputId": "e0be9817-491c-485a-a382-4d58cf9e7968"
      },
      "execution_count": 118,
      "outputs": [
        {
          "output_type": "execute_result",
          "data": {
            "text/plain": [
              "dtype('float64')"
            ]
          },
          "metadata": {},
          "execution_count": 118
        }
      ]
    },
    {
      "cell_type": "code",
      "source": [
        "Y = df.iloc[500:,1].values.astype(float)\n",
        "Y.dtype"
      ],
      "metadata": {
        "colab": {
          "base_uri": "https://localhost:8080/",
          "height": 0
        },
        "id": "RlhvVJRwCKl2",
        "outputId": "f5616d5b-ff3c-4380-f4b9-8eb4b667c5a8"
      },
      "execution_count": 119,
      "outputs": [
        {
          "output_type": "execute_result",
          "data": {
            "text/plain": [
              "dtype('float64')"
            ]
          },
          "metadata": {},
          "execution_count": 119
        }
      ]
    },
    {
      "cell_type": "code",
      "source": [
        "plt.scatter(X,Y)\n",
        "plt.title(\"Load-Displacment Graph\")\n",
        "plt.xlabel(\"displacement mm\")\n",
        "plt.ylabel('Load N')"
      ],
      "metadata": {
        "colab": {
          "base_uri": "https://localhost:8080/",
          "height": 490
        },
        "id": "G80lTXr0COt5",
        "outputId": "f1bc5d6e-1802-4253-dae7-acb7f58ea9ef"
      },
      "execution_count": 120,
      "outputs": [
        {
          "output_type": "execute_result",
          "data": {
            "text/plain": [
              "Text(0, 0.5, 'Load N')"
            ]
          },
          "metadata": {},
          "execution_count": 120
        },
        {
          "output_type": "display_data",
          "data": {
            "text/plain": [
              "<Figure size 640x480 with 1 Axes>"
            ],
            "image/png": "[encoded data removed]"
          },
          "metadata": {}
        }
      ]
    },
    {
      "cell_type": "code",
      "source": [
        "lr = LinearRegression()\n",
        "model = lr.fit(X,Y)"
      ],
      "metadata": {
        "id": "1rQP0XxbCdXC"
      },
      "execution_count": 121,
      "outputs": []
    },
    {
      "cell_type": "code",
      "source": [
        "model.intercept_"
      ],
      "metadata": {
        "colab": {
          "base_uri": "https://localhost:8080/",
          "height": 0
        },
        "id": "eZBzjLvAE1D4",
        "outputId": "6d903052-93d3-43a5-e0c9-e9840015d45d"
      },
      "execution_count": 122,
      "outputs": [
        {
          "output_type": "execute_result",
          "data": {
            "text/plain": [
              "28.827911257002874"
            ]
          },
          "metadata": {},
          "execution_count": 122
        }
      ]
    },
    {
      "cell_type": "code",
      "source": [
        "model.coef_"
      ],
      "metadata": {
        "colab": {
          "base_uri": "https://localhost:8080/",
          "height": 0
        },
        "id": "XphrOAocE7yl",
        "outputId": "e893f28e-6c87-4a59-d3b7-f6156e08db62"
      },
      "execution_count": 123,
      "outputs": [
        {
          "output_type": "execute_result",
          "data": {
            "text/plain": [
              "array([-6.23848079])"
            ]
          },
          "metadata": {},
          "execution_count": 123
        }
      ]
    },
    {
      "cell_type": "code",
      "source": [
        "y_pred = model.predict(X)\n",
        "y_pred"
      ],
      "metadata": {
        "colab": {
          "base_uri": "https://localhost:8080/",
          "height": 0
        },
        "id": "TE4jj3fHE_k_",
        "outputId": "209f494f-a06c-4abd-f91b-a5589b263d10"
      },
      "execution_count": 124,
      "outputs": [
        {
          "output_type": "execute_result",
          "data": {
            "text/plain": [
              "array([0.64723997, 0.64846895, 0.64971041, 0.65093939, 0.65218085,\n",
              "       0.65344726, 0.65470743, 0.65591146, 0.65718411, 0.65843805,\n",
              "       0.65970446, 0.66093968, 0.66220609, 0.66339764, 0.66467029,\n",
              "       0.6659367 , 0.66717816, 0.66839466, 0.66966107, 0.67092125,\n",
              "       0.6721627 , 0.67338545, 0.67467057, 0.67594322, 0.67714101,\n",
              "       0.67843238, 0.67966136, 0.68092153, 0.6821817 , 0.68340445,\n",
              "       0.68462719, 0.68588736, 0.68711634, 0.68838275, 0.68962421,\n",
              "       0.6909031 , 0.69213832, 0.69339225, 0.69462747, 0.69590636,\n",
              "       0.69713534, 0.69838304, 0.69960578, 0.70081605, 0.70209493,\n",
              "       0.70338006, 0.70459033, 0.70586922, 0.70711067, 0.70835837,\n",
              "       0.70959983, 0.71085376, 0.71209522, 0.71336787, 0.7145719 ,\n",
              "       0.71582583, 0.71704857, 0.71832746, 0.71952525, 0.72082285,\n",
              "       0.72208303, 0.72336815, 0.7245597 , 0.7258074 , 0.72706757,\n",
              "       0.72834022, 0.72952553, 0.73083562, 0.73205212, 0.73330605,\n",
              "       0.73455375, 0.73580145, 0.73705538, 0.73834675, 0.73954453,\n",
              "       0.74079847, 0.74203369, 0.74333129, 0.74453532, 0.74582045,\n",
              "       0.74705567, 0.74829712, 0.74955106, 0.75076756, 0.75201526,\n",
              "       0.75326919, 0.75454808, 0.75577706, 0.75704347, 0.75829117,\n",
              "       0.75952015, 0.76076785, 0.7620405 , 0.76323828, 0.76454837,\n",
              "       0.76573368, 0.76700633, 0.76822283, 0.7695142 , 0.77074942,\n",
              "       0.77200335, 0.77322609, 0.77449874, 0.77574644, 0.77694423,\n",
              "       0.77816073, 0.77942714, 0.7806686 , 0.78192877, 0.7831328 ,\n",
              "       0.78441169, 0.78564691, 0.78693827, 0.78817349, 0.78940871,\n",
              "       0.79067512, 0.79191034, 0.79309565, 0.7943683 , 0.79564095,\n",
              "       0.79688865, 0.7980802 , 0.79935909, 0.80058183, 0.8018732 ,\n",
              "       0.80309594, 0.8043873 , 0.80559757, 0.80687022, 0.80807425,\n",
              "       0.8093469 , 0.81058212, 0.81183605, 0.81305255, 0.81434392,\n",
              "       0.81560409, 0.8168206 , 0.81806829, 0.81934718, 0.82052002,\n",
              "       0.82184257, 0.82309651, 0.82430677, 0.82557318, 0.82680217,\n",
              "       0.82806858, 0.82931627, 0.83057021, 0.83180543, 0.83303441,\n",
              "       0.83430706, 0.83554228, 0.83678373, 0.8380751 , 0.83929784,\n",
              "       0.84054554, 0.84176204, 0.84304093, 0.84426991, 0.84553009,\n",
              "       0.84677778, 0.84803172, 0.84926694, 0.85053959, 0.85176233,\n",
              "       0.85303498, 0.85427644, 0.85553037, 0.85672816, 0.85801329,\n",
              "       0.85922355, 0.86048372, 0.86169399, 0.86301031, 0.86425177,\n",
              "       0.86549322, 0.86671597, 0.8679699 , 0.86922384, 0.87047777,\n",
              "       0.87171299, 0.87299812, 0.87421462, 0.87546855, 0.87668506,\n",
              "       0.87794523, 0.87921788, 0.88047182, 0.88165713, 0.88295473,\n",
              "       0.88422738, 0.88545012, 0.8866791 , 0.88795175, 0.88921817,\n",
              "       0.89046586, 0.89170108, 0.89293006, 0.894184  , 0.89541922,\n",
              "       0.89671058, 0.8979458 , 0.89920597, 0.90042248, 0.90169513,\n",
              "       0.90291163, 0.90419052, 0.90540079, 0.90665472, 0.90790865,\n",
              "       0.9091813 , 0.91036662, 0.91165174, 0.91290568, 0.91416585,\n",
              "       0.91541355, 0.91666748, 0.91789646, 0.91914416, 0.92036066,\n",
              "       0.92164579, 0.92287477, 0.92414118, 0.92535145, 0.92661162,\n",
              "       0.92786555, 0.92912573, 0.93034847, 0.93165231, 0.93287505,\n",
              "       0.93411027, 0.93533302, 0.9366119 , 0.93785336, 0.93911977,\n",
              "       0.94033004, 0.94157774, 0.94284415, 0.94409808, 0.94530211,\n",
              "       0.94660595, 0.94780374, 0.94908263, 0.95031785, 0.95158426,\n",
              "       0.952807  , 0.95408589, 0.95530863, 0.95656257, 0.95780402,\n",
              "       0.95907044, 0.96029942, 0.96154711, 0.962826  , 0.96407994,\n",
              "       0.96532763, 0.96657533, 0.96782926, 0.96904577, 0.97029346,\n",
              "       0.97155987, 0.97281381, 0.97402407, 0.97528425, 0.97651947,\n",
              "       0.97778588, 0.97903981, 0.98029999, 0.98154768, 0.98280785,\n",
              "       0.98401812, 0.98527829, 0.98651351, 0.98778616, 0.98902138,\n",
              "       0.99026908, 0.99149182, 0.99274575, 0.9939685 , 0.99524739,\n",
              "       0.99650756, 0.99775525, 0.99895928, 1.00022569, 1.00147339,\n",
              "       1.00273356, 1.00396254, 1.00526015, 1.00645794, 1.00773059,\n",
              "       1.00894085, 1.01023222, 1.01148615, 1.01276504, 1.01396283,\n",
              "       1.01523548, 1.01644574, 1.01772463, 1.01892242, 1.02020131,\n",
              "       1.02142405, 1.02266551, 1.02393816, 1.02521705, 1.02642107,\n",
              "       1.02771244, 1.02894142, 1.03018288, 1.03146177, 1.03270946,\n",
              "       1.03391349, 1.03519238, 1.03639017, 1.03768153, 1.03892299,\n",
              "       1.04017069, 1.04141838, 1.04266608, 1.04392625, 1.04516771,\n",
              "       1.04639045, 1.04765686, 1.0489108 , 1.05013978, 1.0514249 ,\n",
              "       1.05262269, 1.0538891 , 1.05511185, 1.05640321, 1.05760724,\n",
              "       1.05887989, 1.06010887, 1.06136904, 1.0626105 , 1.06387691,\n",
              "       1.06511213, 1.06635359, 1.06758881, 1.06885522, 1.07009668,\n",
              "       1.07136309, 1.07257335, 1.07382729, 1.07506875, 1.07634764,\n",
              "       1.07756414, 1.07886798, 1.0801032 , 1.08134466, 1.08256116,\n",
              "       1.08384005, 1.08506279, 1.08631049, 1.08754571, 1.08883084,\n",
              "       1.09005982, 1.09132623, 1.09254897, 1.09377795, 1.09504436,\n",
              "       1.09632949, 1.09754599, 1.09881241, 1.10004762, 1.10130156,\n",
              "       1.10251806, 1.10376576, 1.10504465, 1.10627987, 1.1075338 ,\n",
              "       1.10877526, 1.11004791, 1.11126441, 1.11246844, 1.11370366,\n",
              "       1.11498255, 1.11620529, 1.1174717 , 1.11871316, 1.11996085,\n",
              "       1.1211836 , 1.12243129, 1.12370394, 1.12495788, 1.12621181,\n",
              "       1.12745951, 1.12866354, 1.12994242, 1.13118388, 1.13245029,\n",
              "       1.13366056, 1.13491449, 1.13615595, 1.13740365, 1.13863887,\n",
              "       1.13991152, 1.14112802, 1.14242562, 1.14362341, 1.1449023 ,\n",
              "       1.14613128, 1.14739145, 1.14863291, 1.14989932, 1.15110959,\n",
              "       1.15238848, 1.15361746, 1.15489011, 1.15612533, 1.15739798,\n",
              "       1.1586332 , 1.15988089, 1.16109116, 1.16235757, 1.16359903,\n",
              "       1.16488416, 1.1661069 , 1.16737331, 1.16860229, 1.1698687 ,\n",
              "       1.17111016, 1.17238281, 1.17361803, 1.17486572, 1.17608223,\n",
              "       1.17736112, 1.1785901 , 1.17983155, 1.18109173, 1.18232695,\n",
              "       1.18362455, 1.18480986, 1.18607004, 1.18729902, 1.18861534,\n",
              "       1.18984432, 1.19106706, 1.19230852, 1.19358741, 1.19480391,\n",
              "       1.19606408, 1.19731802, 1.19858443, 1.19980717, 1.20105487,\n",
              "       1.20227137, 1.2035565 , 1.20479172, 1.20607061, 1.20728711,\n",
              "       1.20854728, 1.20976379, 1.21103644, 1.21225294, 1.21350064,\n",
              "       1.21475457, 1.21601474, 1.21723125, 1.21851014, 1.21973288,\n",
              "       1.22101801, 1.22225946, 1.22352587, 1.22475486, 1.22600255,\n",
              "       1.22723777, 1.22848547, 1.22970197, 1.23099957, 1.23221608,\n",
              "       1.23345754, 1.23469899, 1.23598412, 1.23723182, 1.23847327,\n",
              "       1.23971473])"
            ]
          },
          "metadata": {},
          "execution_count": 124
        }
      ]
    },
    {
      "cell_type": "code",
      "source": [
        "model.score(X,Y)"
      ],
      "metadata": {
        "colab": {
          "base_uri": "https://localhost:8080/",
          "height": 0
        },
        "id": "qyLV4p9jFJjL",
        "outputId": "4eeb53b3-077d-4e19-9f1f-24a73fbadf75"
      },
      "execution_count": 125,
      "outputs": [
        {
          "output_type": "execute_result",
          "data": {
            "text/plain": [
              "0.8939164455916386"
            ]
          },
          "metadata": {},
          "execution_count": 125
        }
      ]
    },
    {
      "cell_type": "code",
      "source": [
        "plt.plot(X,Y, 'o', color='red')\n",
        "plt.plot(X,y_pred, color='blue')\n",
        "plt.title('Force Displacement Graph')\n",
        "plt.xlabel('Displacement mm')\n",
        "plt.ylabel('Load N')\n"
      ],
      "metadata": {
        "colab": {
          "base_uri": "https://localhost:8080/",
          "height": 490
        },
        "id": "ycvwR8mdG4O1",
        "outputId": "c2d803e0-3fb9-4f36-a602-4bd409bc18f5"
      },
      "execution_count": 126,
      "outputs": [
        {
          "output_type": "execute_result",
          "data": {
            "text/plain": [
              "Text(0, 0.5, 'Load N')"
            ]
          },
          "metadata": {},
          "execution_count": 126
        },
        {
          "output_type": "display_data",
          "data": {
            "text/plain": [
              "<Figure size 640x480 with 1 Axes>"
            ],
            "image/png": "[encoded data removed]"
          },
          "metadata": {}
        }
      ]
    }
  ]
}